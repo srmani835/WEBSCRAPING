{
 "cells": [
  {
   "cell_type": "markdown",
   "id": "72f870a0",
   "metadata": {},
   "source": [
    "# WEBSCRAPING\n",
    "Web scraping is the process of extracting and parsing data from websites in an automated fashion using a computer program. It's a useful technique for creating datasets for research and learning. While web scraping often involves parsing and processing HTML documents, some platforms also offer REST APIs to retrieve information in a machine-readable format like JSON."
   ]
  },
  {
   "cell_type": "markdown",
   "id": "b658b14f",
   "metadata": {},
   "source": [
    "## STEPS INVOVLED IN IT\n",
    "Here are the steps we'll follow:\n",
    "\n",
    " 1. We're going to scrape https://github.com/topics\n",
    " 2. We'll get a list of topics. For each topic, we'll get topic title, topic page URL and topic description\n",
    " 3. For each topic, we'll get the top 25 repositories in the topic from the topic page\n",
    " 4. For each repository, we'll grab the repo name, username, stars and repo URL\n",
    " 5. For each topic we'll create a CSV file in the following format:\n",
    "     - Repo Name,Username,Stars,Repo URL\n",
    "     - three.js,mrdoob,69700,https://github.com/mrdoob/three.js\n",
    "     - libgdx,libgdx,18300,https://github.com/libgdx/libgdx"
   ]
  },
  {
   "cell_type": "markdown",
   "id": "71b70dcd",
   "metadata": {},
   "source": [
    "## General Procedure for any webscraping\n",
    "1. Pick a website and describe your objective\n",
    "- Browse through different sites and pick on to scrape.\n",
    "- Identify the information you'd like to scrape from the site. Decide the format of the output CSV file."
   ]
  },
  {
   "cell_type": "markdown",
   "id": "49e47898",
   "metadata": {},
   "source": [
    "2. Use the requests library to download web pages\n",
    "- Inspect the website's HTML source and identify the right URLs to download.\n",
    "- Download and save web pages locally using the requests library.\n",
    "- Create a function to automate downloading for different topics/search queries"
   ]
  },
  {
   "cell_type": "markdown",
   "id": "74b6b866",
   "metadata": {},
   "source": [
    "3. Use Beautiful Soup to parse and extract information\n",
    "- Parse and explore the structure of downloaded web pages using Beautiful soup.\n",
    "- Use the right properties and methods to extract the required information.\n",
    "- Create functions to extract from the page into lists and dictionaries."
   ]
  },
  {
   "cell_type": "markdown",
   "id": "b7fe1ae1",
   "metadata": {},
   "source": [
    "4. Create CSV file(s) with the extracted information\n",
    "- Create functions for the end-to-end process of downloading, parsing, and saving CSVs.\n",
    "- Execute the function with different inputs to create a dataset of CSV files.\n",
    "- Verify the information in the CSV files by reading them back using Pandas."
   ]
  },
  {
   "cell_type": "markdown",
   "id": "5f294454",
   "metadata": {},
   "source": [
    "## STEP_1\n",
    "Python function that creates a CSV file (comma-separated values) containing details about the 25 top GitHub repositories for any given topic.We are going to scrape the github page.\n",
    "link-https://github.com/topics"
   ]
  },
  {
   "cell_type": "markdown",
   "id": "2830b209",
   "metadata": {},
   "source": [
    "# STEP_2"
   ]
  },
  {
   "cell_type": "markdown",
   "id": "764ca588",
   "metadata": {},
   "source": [
    "- When you access a URL like https://github.com/topics/machine-learning using a web browser, it downloads the contents of the web page the URL points to and displays the output on the screen. Before we can extract information from a web page, we need to download the page using Python.\n",
    "\n",
    "- We'll use a library called requests to download web pages from the internet."
   ]
  },
  {
   "cell_type": "code",
   "execution_count": 3,
   "id": "1922b618",
   "metadata": {},
   "outputs": [],
   "source": [
    "import requests\n",
    "#We can download a web page using the requests.get function."
   ]
  },
  {
   "cell_type": "code",
   "execution_count": 21,
   "id": "f2ea7c79",
   "metadata": {},
   "outputs": [
    {
     "data": {
      "text/plain": [
       "requests.models.Response"
      ]
     },
     "execution_count": 21,
     "metadata": {},
     "output_type": "execute_result"
    }
   ],
   "source": [
    "topic_url = 'https://github.com/topics/machine-learning'\n",
    "response_url = requests.get(topic_url)\n",
    "type(response)"
   ]
  },
  {
   "cell_type": "code",
   "execution_count": 22,
   "id": "1cab0ad4",
   "metadata": {},
   "outputs": [
    {
     "data": {
      "text/plain": [
       "200"
      ]
     },
     "execution_count": 22,
     "metadata": {},
     "output_type": "execute_result"
    }
   ],
   "source": [
    "response_url.status_code\n",
    "#The contents of the web page can be accessed using the .text property of the response."
   ]
  },
  {
   "cell_type": "code",
   "execution_count": 23,
   "id": "9a149566",
   "metadata": {},
   "outputs": [],
   "source": [
    "page_contents_url=response_url.text"
   ]
  },
  {
   "cell_type": "code",
   "execution_count": 24,
   "id": "0ce204b6",
   "metadata": {},
   "outputs": [
    {
     "data": {
      "text/plain": [
       "670891"
      ]
     },
     "execution_count": 24,
     "metadata": {},
     "output_type": "execute_result"
    }
   ],
   "source": [
    "len(page_contents_url)"
   ]
  },
  {
   "cell_type": "code",
   "execution_count": 25,
   "id": "9e69d2e6",
   "metadata": {},
   "outputs": [
    {
     "data": {
      "text/plain": [
       "'\\n\\n<!DOCTYPE html>\\n<html lang=\"en\" data-color-mode=\"auto\" data-light-theme=\"light\" data-dark-theme=\"dark\">\\n  <head>\\n    <meta charset=\"utf-8\">\\n  <link rel=\"dns-prefetch\" href=\"https://github.githubassets.com\">\\n  <link rel=\"dns-prefetch\" href=\"https://avatars.githubusercontent.com\">\\n  <link rel=\"dns-prefetch\" href=\"https://github-cloud.s3.amazonaws.com\">\\n  <link rel=\"dns-prefetch\" href=\"https://user-images.githubusercontent.com/\">\\n  <link rel=\"preconnect\" href=\"https://github.githubassets.com\" crossorigin>\\n  <link rel=\"preconnect\" href=\"https://avatars.githubusercontent.com\">\\n\\n\\n\\n  <link crossorigin=\"anonymous\" media=\"all\" integrity=\"sha512-E9wnWjoxQmh5A1jiWVYDPKOvA8VPf0iKQYoc+9ycMJvtAi9gOSlaUci+W2smxFIlWkV8hkX+O27S8NIB59iIDw==\" rel=\"stylesheet\" href=\"https://github.githubassets.com/assets/light-13dc275a3a314268790358e25956033c.css\" /><link crossorigin=\"anonymous\" media=\"all\" integrity=\"sha512-nYSv3KrFhMlGUpjkFQBLMEN6HvHhijcoubQLjV3DWlcABEi2yDYf6KGUjRubJ5R+dJnKXR7jA4wu5Dg200SApA==\" rel=\"s'"
      ]
     },
     "execution_count": 25,
     "metadata": {},
     "output_type": "execute_result"
    }
   ],
   "source": [
    "page_contents_url[:1000]"
   ]
  },
  {
   "cell_type": "markdown",
   "id": "521d3cfd",
   "metadata": {},
   "source": [
    "Let's save the contents to a file with the .html extension."
   ]
  },
  {
   "cell_type": "code",
   "execution_count": 26,
   "id": "e4b29e51",
   "metadata": {},
   "outputs": [],
   "source": [
    "with open('Machine_learning.html','w',encoding='utf-8') as file:\n",
    "    file.write(page_contents_url)"
   ]
  },
  {
   "attachments": {
    "Machine_learning_repo.png": {
     "image/png": "[encoded data removed]"
    }
   },
   "cell_type": "markdown",
   "id": "3f773e9c",
   "metadata": {},
   "source": [
    "You can now view the file using the \"File > Open\" menu option within Jupyter and clicking on machine-learning.html in the list of files displayed. Here's what you'll see when you open the file:\n",
    "\n",
    "![Machine_learning_repo.png](attachment:Machine_learning_repo.png)\n",
    "\n",
    "While this looks similar to the original web page, note that it's simply a copy. You will notice that none of the links or buttons work. "
   ]
  },
  {
   "cell_type": "code",
   "execution_count": 18,
   "id": "74771316",
   "metadata": {},
   "outputs": [],
   "source": [
    "topic_url='https://github.com/topics'\n",
    "response=requests.get(topic_url)"
   ]
  },
  {
   "cell_type": "code",
   "execution_count": 20,
   "id": "9ea0637d",
   "metadata": {},
   "outputs": [
    {
     "data": {
      "text/plain": [
       "<Response [200]>"
      ]
     },
     "execution_count": 20,
     "metadata": {},
     "output_type": "execute_result"
    }
   ],
   "source": [
    "response  #if response is in between 200-299 then it is sucess else it is false"
   ]
  },
  {
   "cell_type": "code",
   "execution_count": 28,
   "id": "42af14e0",
   "metadata": {},
   "outputs": [],
   "source": [
    "page_contents=response.text"
   ]
  },
  {
   "cell_type": "code",
   "execution_count": 29,
   "id": "c7283ee9",
   "metadata": {},
   "outputs": [],
   "source": [
    "with open('topics.html','w',encoding='utf-8') as f:\n",
    "    f.write(page_contents)"
   ]
  },
  {
   "cell_type": "code",
   "execution_count": 39,
   "id": "d59fe434",
   "metadata": {},
   "outputs": [
    {
     "data": {
      "text/plain": [
       "174358"
      ]
     },
     "execution_count": 39,
     "metadata": {},
     "output_type": "execute_result"
    }
   ],
   "source": [
    "len(page_contents)"
   ]
  },
  {
   "cell_type": "code",
   "execution_count": 44,
   "id": "edfbb6e6",
   "metadata": {},
   "outputs": [
    {
     "data": {
      "text/plain": [
       "'\\n\\n<!DOCTYPE html>\\n<html lang=\"en\" data-color-mode=\"auto\" data-light-theme=\"light\" data-dark-theme=\"dark\">\\n  <head>\\n    <meta charset=\"utf-8\">\\n  <link rel=\"dns-prefetch\" href=\"https://github.githubassets.com\">\\n  <link rel=\"dns-prefetch\" href=\"https://avatars.githubusercontent.com\">\\n  <link rel=\"dns-prefetch\" href=\"https://github-cloud.s3.amazonaws.com\">\\n  <link rel=\"dns-prefetch\" href=\"https://user-images.githubusercontent.com/\">\\n  <link rel=\"preconnect\" href=\"https://github.githubassets.com\" crossorigin>\\n  <link rel=\"preconnect\" href=\"https://avatars.githubusercontent.com\">\\n\\n\\n\\n  <link crossorigin=\"anonymous\" media=\"all\" integrity=\"sha512-E9wnWjoxQmh5A1jiWVYDPKOvA8VPf0iKQYoc+9ycMJvtAi9gOSlaUci+W2smxFIlWkV8hkX+O27S8NIB59iIDw==\" rel=\"stylesheet\" href=\"https://github.githubassets.com/assets/light-13dc275a3a314268790358e25956033c.css\" /><link crossorigin=\"anonymous\" media=\"all\" integrity=\"sha512-nYSv3KrFhMlGUpjkFQBLMEN6HvHhijcoubQLjV3DWlcABEi2yDYf6KGUjRubJ5R+dJnKXR7jA4wu5Dg200SApA==\" rel=\"s'"
      ]
     },
     "execution_count": 44,
     "metadata": {},
     "output_type": "execute_result"
    }
   ],
   "source": [
    "page_contents[:1000]"
   ]
  },
  {
   "cell_type": "markdown",
   "id": "c263b659",
   "metadata": {},
   "source": [
    "## Step_3:Use Beautiful soup and extract information\n",
    "### Inspecting HTML in the Browser\n",
    "You can view the source code of any webpage right within your browser by right-clicking anywhere on a page and selecting the \"Inspect\" option. It opens the \"Developer Tools\" pane, where you can see the source code as a tree. You can expand and collapse various nodes and find the source code for a specific portion of the page."
   ]
  },
  {
   "cell_type": "code",
   "execution_count": 17,
   "id": "66d5304e",
   "metadata": {},
   "outputs": [],
   "source": [
    "from bs4 import BeautifulSoup #importing the beautiful soup library"
   ]
  },
  {
   "cell_type": "code",
   "execution_count": 45,
   "id": "5568ac6b",
   "metadata": {},
   "outputs": [],
   "source": [
    "doc=BeautifulSoup(page_contents,'html.parser') #you need to pass the html content and the html.parser."
   ]
  },
  {
   "cell_type": "code",
   "execution_count": 47,
   "id": "28f4dd6a",
   "metadata": {},
   "outputs": [
    {
     "data": {
      "text/plain": [
       "bs4.BeautifulSoup"
      ]
     },
     "execution_count": 47,
     "metadata": {},
     "output_type": "execute_result"
    }
   ],
   "source": [
    "type(doc)"
   ]
  },
  {
   "cell_type": "code",
   "execution_count": 51,
   "id": "c5392896",
   "metadata": {},
   "outputs": [],
   "source": [
    "Title_tag=doc.find('title')"
   ]
  },
  {
   "cell_type": "code",
   "execution_count": 52,
   "id": "a11b16e8",
   "metadata": {},
   "outputs": [
    {
     "data": {
      "text/plain": [
       "'Topics on GitHub · GitHub'"
      ]
     },
     "execution_count": 52,
     "metadata": {},
     "output_type": "execute_result"
    }
   ],
   "source": [
    "#To extract text from the html we need to use the text method.Lets use text method on Title_tag.\n",
    "Title_tag.text"
   ]
  },
  {
   "cell_type": "markdown",
   "id": "6c1ac705",
   "metadata": {},
   "source": [
    "### Extract topics using Tags"
   ]
  },
  {
   "cell_type": "code",
   "execution_count": 66,
   "id": "e056f104",
   "metadata": {},
   "outputs": [],
   "source": [
    "topic_title_tags=doc.find_all('p',class_='f3 lh-condensed mb-0 mt-1 Link--primary')\n"
   ]
  },
  {
   "cell_type": "code",
   "execution_count": 67,
   "id": "75573f62",
   "metadata": {},
   "outputs": [
    {
     "data": {
      "text/plain": [
       "30"
      ]
     },
     "execution_count": 67,
     "metadata": {},
     "output_type": "execute_result"
    }
   ],
   "source": [
    "len(topic_title_tags)\n"
   ]
  },
  {
   "cell_type": "code",
   "execution_count": 68,
   "id": "5a896e49",
   "metadata": {},
   "outputs": [
    {
     "data": {
      "text/plain": [
       "[<p class=\"f3 lh-condensed mb-0 mt-1 Link--primary\">3D</p>,\n",
       " <p class=\"f3 lh-condensed mb-0 mt-1 Link--primary\">Ajax</p>,\n",
       " <p class=\"f3 lh-condensed mb-0 mt-1 Link--primary\">Algorithm</p>,\n",
       " <p class=\"f3 lh-condensed mb-0 mt-1 Link--primary\">Amp</p>,\n",
       " <p class=\"f3 lh-condensed mb-0 mt-1 Link--primary\">Android</p>]"
      ]
     },
     "execution_count": 68,
     "metadata": {},
     "output_type": "execute_result"
    }
   ],
   "source": [
    "topic_title_tags[:5]"
   ]
  },
  {
   "cell_type": "code",
   "execution_count": 69,
   "id": "5bf724b4",
   "metadata": {},
   "outputs": [],
   "source": [
    "topic_desc_tags=doc.find_all('p',class_=\"f5 color-fg-muted mb-0 mt-1\")\n"
   ]
  },
  {
   "cell_type": "code",
   "execution_count": 70,
   "id": "f541cdc7",
   "metadata": {},
   "outputs": [
    {
     "data": {
      "text/plain": [
       "30"
      ]
     },
     "execution_count": 70,
     "metadata": {},
     "output_type": "execute_result"
    }
   ],
   "source": [
    "len(topic_desc_tags)"
   ]
  },
  {
   "cell_type": "code",
   "execution_count": 71,
   "id": "e1f6911e",
   "metadata": {},
   "outputs": [
    {
     "data": {
      "text/plain": [
       "[<p class=\"f5 color-fg-muted mb-0 mt-1\">\n",
       "           3D modeling is the process of virtually developing the surface and structure of a 3D object.\n",
       "         </p>,\n",
       " <p class=\"f5 color-fg-muted mb-0 mt-1\">\n",
       "           Ajax is a technique for creating interactive web applications.\n",
       "         </p>,\n",
       " <p class=\"f5 color-fg-muted mb-0 mt-1\">\n",
       "           Algorithms are self-contained sequences that carry out a variety of tasks.\n",
       "         </p>,\n",
       " <p class=\"f5 color-fg-muted mb-0 mt-1\">\n",
       "           Amp is a non-blocking concurrency framework for PHP.\n",
       "         </p>,\n",
       " <p class=\"f5 color-fg-muted mb-0 mt-1\">\n",
       "           Android is an operating system built by Google designed for mobile devices.\n",
       "         </p>]"
      ]
     },
     "execution_count": 71,
     "metadata": {},
     "output_type": "execute_result"
    }
   ],
   "source": [
    "topic_desc_tags[:5]"
   ]
  },
  {
   "cell_type": "code",
   "execution_count": 89,
   "id": "615af2ca",
   "metadata": {},
   "outputs": [],
   "source": [
    "topic_link_tags=doc.find_all('a',class_=\"no-underline flex-grow-0\")\n"
   ]
  },
  {
   "cell_type": "code",
   "execution_count": 114,
   "id": "2bd0a72e",
   "metadata": {},
   "outputs": [
    {
     "data": {
      "text/plain": [
       "<a class=\"no-underline flex-grow-0\" href=\"/topics/ajax\">\n",
       "<img alt=\"ajax\" class=\"rounded mr-3\" height=\"64\" src=\"https://raw.githubusercontent.com/github/explore/8be26d91eb231fec0b8856359979ac09f27173fd/topics/ajax/ajax.png\" width=\"64\"/>\n",
       "</a>"
      ]
     },
     "execution_count": 114,
     "metadata": {},
     "output_type": "execute_result"
    }
   ],
   "source": [
    "topic_link_tags[1]"
   ]
  },
  {
   "cell_type": "code",
   "execution_count": 101,
   "id": "14e496a4",
   "metadata": {},
   "outputs": [
    {
     "data": {
      "text/plain": [
       "'/topics/ajax'"
      ]
     },
     "execution_count": 101,
     "metadata": {},
     "output_type": "execute_result"
    }
   ],
   "source": [
    "topic_link_tags[1]['href']"
   ]
  },
  {
   "cell_type": "code",
   "execution_count": 133,
   "id": "1fab7c92",
   "metadata": {},
   "outputs": [],
   "source": [
    "#now we will make it to link\n",
    "topic0_url='https://github.com/'+topic_link_tags[0]['href']\n"
   ]
  },
  {
   "cell_type": "code",
   "execution_count": 134,
   "id": "c4f4d2c6",
   "metadata": {},
   "outputs": [
    {
     "name": "stdout",
     "output_type": "stream",
     "text": [
      "https://github.com//topics/3d\n"
     ]
    }
   ],
   "source": [
    "print(topic0_url)"
   ]
  },
  {
   "cell_type": "code",
   "execution_count": 135,
   "id": "84d48fa5",
   "metadata": {},
   "outputs": [
    {
     "data": {
      "text/plain": [
       "['3D', 'Ajax', 'Algorithm', 'Amp', 'Android']"
      ]
     },
     "execution_count": 135,
     "metadata": {},
     "output_type": "execute_result"
    }
   ],
   "source": [
    "topic_titles=[]\n",
    "for tags in topic_title_tags:\n",
    "    topic_titles.append(tags.text)\n",
    "topic_titles[:5]"
   ]
  },
  {
   "cell_type": "code",
   "execution_count": 136,
   "id": "f7fab59d",
   "metadata": {},
   "outputs": [
    {
     "data": {
      "text/plain": [
       "['3D modeling is the process of virtually developing the surface and structure of a 3D object.',\n",
       " 'Ajax is a technique for creating interactive web applications.',\n",
       " 'Algorithms are self-contained sequences that carry out a variety of tasks.',\n",
       " 'Amp is a non-blocking concurrency framework for PHP.',\n",
       " 'Android is an operating system built by Google designed for mobile devices.']"
      ]
     },
     "execution_count": 136,
     "metadata": {},
     "output_type": "execute_result"
    }
   ],
   "source": [
    "topic_description=[]\n",
    "for tags in topic_desc_tags:\n",
    "    topic_description.append(tags.text.strip())#strip removes spaces from string\n",
    "topic_description[:5]"
   ]
  },
  {
   "cell_type": "markdown",
   "id": "2e5b36f3",
   "metadata": {},
   "source": [
    "we do have text method only for tags.Href is attribute.Its not a tag.To get attributes use indexing"
   ]
  },
  {
   "cell_type": "code",
   "execution_count": 140,
   "id": "5e3ee2c5",
   "metadata": {},
   "outputs": [
    {
     "data": {
      "text/plain": [
       "['https://github.com/topics/3d',\n",
       " 'https://github.com/topics/ajax',\n",
       " 'https://github.com/topics/algorithm',\n",
       " 'https://github.com/topics/amphp',\n",
       " 'https://github.com/topics/android']"
      ]
     },
     "execution_count": 140,
     "metadata": {},
     "output_type": "execute_result"
    }
   ],
   "source": [
    "topic_urls=[]\n",
    "base_url='https://github.com'\n",
    "for tags in topic_link_tags:\n",
    "    topic_urls.append(base_url+tags['href'])\n",
    "topic_urls[:5]"
   ]
  },
  {
   "cell_type": "code",
   "execution_count": 141,
   "id": "b2913c3b",
   "metadata": {},
   "outputs": [],
   "source": [
    "import pandas as pd"
   ]
  },
  {
   "cell_type": "code",
   "execution_count": 142,
   "id": "4f204394",
   "metadata": {},
   "outputs": [],
   "source": [
    "topics_dict={\n",
    "    'title':topic_titles,\n",
    "    'descrption':topic_description,\n",
    "    'url':topic_urls\n",
    "}\n",
    "topics_df=pd.DataFrame(topics_dict)"
   ]
  },
  {
   "cell_type": "code",
   "execution_count": 143,
   "id": "fe95e4d3",
   "metadata": {},
   "outputs": [
    {
     "data": {
      "text/html": [
       "<div>\n",
       "<style scoped>\n",
       "    .dataframe tbody tr th:only-of-type {\n",
       "        vertical-align: middle;\n",
       "    }\n",
       "\n",
       "    .dataframe tbody tr th {\n",
       "        vertical-align: top;\n",
       "    }\n",
       "\n",
       "    .dataframe thead th {\n",
       "        text-align: right;\n",
       "    }\n",
       "</style>\n",
       "<table border=\"1\" class=\"dataframe\">\n",
       "  <thead>\n",
       "    <tr style=\"text-align: right;\">\n",
       "      <th></th>\n",
       "      <th>title</th>\n",
       "      <th>descrption</th>\n",
       "      <th>url</th>\n",
       "    </tr>\n",
       "  </thead>\n",
       "  <tbody>\n",
       "    <tr>\n",
       "      <th>12</th>\n",
       "      <td>Amazon Web Services</td>\n",
       "      <td>Amazon Web Services provides on-demand cloud c...</td>\n",
       "      <td>https://github.com/topics/aws</td>\n",
       "    </tr>\n",
       "    <tr>\n",
       "      <th>23</th>\n",
       "      <td>Clojure</td>\n",
       "      <td>Clojure is a dynamic, general-purpose programm...</td>\n",
       "      <td>https://github.com/topics/clojure</td>\n",
       "    </tr>\n",
       "    <tr>\n",
       "      <th>5</th>\n",
       "      <td>Angular</td>\n",
       "      <td>Angular is an open source web application plat...</td>\n",
       "      <td>https://github.com/topics/angular</td>\n",
       "    </tr>\n",
       "    <tr>\n",
       "      <th>27</th>\n",
       "      <td>Continuous integration</td>\n",
       "      <td>Automatically build and test your code as you ...</td>\n",
       "      <td>https://github.com/topics/continuous-integration</td>\n",
       "    </tr>\n",
       "    <tr>\n",
       "      <th>0</th>\n",
       "      <td>3D</td>\n",
       "      <td>3D modeling is the process of virtually develo...</td>\n",
       "      <td>https://github.com/topics/3d</td>\n",
       "    </tr>\n",
       "  </tbody>\n",
       "</table>\n",
       "</div>"
      ],
      "text/plain": [
       "                     title                                         descrption  \\\n",
       "12     Amazon Web Services  Amazon Web Services provides on-demand cloud c...   \n",
       "23                 Clojure  Clojure is a dynamic, general-purpose programm...   \n",
       "5                  Angular  Angular is an open source web application plat...   \n",
       "27  Continuous integration  Automatically build and test your code as you ...   \n",
       "0                       3D  3D modeling is the process of virtually develo...   \n",
       "\n",
       "                                                 url  \n",
       "12                     https://github.com/topics/aws  \n",
       "23                 https://github.com/topics/clojure  \n",
       "5                  https://github.com/topics/angular  \n",
       "27  https://github.com/topics/continuous-integration  \n",
       "0                       https://github.com/topics/3d  "
      ]
     },
     "execution_count": 143,
     "metadata": {},
     "output_type": "execute_result"
    }
   ],
   "source": [
    "topics_df.sample(5)"
   ]
  },
  {
   "cell_type": "markdown",
   "id": "0c81ddaf",
   "metadata": {},
   "source": [
    "## Getting information out of a Topic Page"
   ]
  },
  {
   "cell_type": "code",
   "execution_count": 341,
   "id": "a8b955a6",
   "metadata": {},
   "outputs": [],
   "source": [
    "topic_page_url='https://github.com/topics/aws'"
   ]
  },
  {
   "cell_type": "code",
   "execution_count": 342,
   "id": "31507d10",
   "metadata": {},
   "outputs": [],
   "source": [
    "response=requests.get(topic_page_url)"
   ]
  },
  {
   "cell_type": "code",
   "execution_count": 343,
   "id": "5c726267",
   "metadata": {},
   "outputs": [
    {
     "data": {
      "text/plain": [
       "200"
      ]
     },
     "execution_count": 343,
     "metadata": {},
     "output_type": "execute_result"
    }
   ],
   "source": [
    "response.status_code"
   ]
  },
  {
   "cell_type": "code",
   "execution_count": 344,
   "id": "77a9558c",
   "metadata": {},
   "outputs": [
    {
     "data": {
      "text/plain": [
       "693629"
      ]
     },
     "execution_count": 344,
     "metadata": {},
     "output_type": "execute_result"
    }
   ],
   "source": [
    "len(response.text)"
   ]
  },
  {
   "cell_type": "code",
   "execution_count": 345,
   "id": "3410d32f",
   "metadata": {},
   "outputs": [],
   "source": [
    "topic_doc=BeautifulSoup(response.text,'html.parser')"
   ]
  },
  {
   "cell_type": "code",
   "execution_count": 346,
   "id": "20fe5687",
   "metadata": {},
   "outputs": [
    {
     "data": {
      "text/plain": [
       "30"
      ]
     },
     "execution_count": 346,
     "metadata": {},
     "output_type": "execute_result"
    }
   ],
   "source": [
    "repo_tags=topic_doc.find_all('h3',class_=\"f3 color-fg-muted text-normal lh-condensed\")\n",
    "len(repo_tags)\n"
   ]
  },
  {
   "cell_type": "code",
   "execution_count": 347,
   "id": "551bc8f9",
   "metadata": {},
   "outputs": [
    {
     "data": {
      "text/plain": [
       "[<a data-ga-click=\"Explore, go to repository owner, location:explore feed\" data-hydro-click='{\"event_type\":\"explore.click\",\"payload\":{\"click_context\":\"REPOSITORY_CARD\",\"click_target\":\"OWNER\",\"click_visual_representation\":\"REPOSITORY_OWNER_HEADING\",\"actor_id\":null,\"record_id\":13742415,\"originating_url\":\"https://github.com/topics/aws\",\"user_id\":null}}' data-hydro-click-hmac=\"d9e308e369d2b4c48a1d8c6bedf3b2c792abe0a9d49c84a0ebdb97dfa30d6072\" data-view-component=\"true\" href=\"/serverless\">\n",
       "             serverless\n",
       " </a>,\n",
       " <a class=\"text-bold wb-break-word\" data-ga-click=\"Explore, go to repository, location:explore feed\" data-hydro-click='{\"event_type\":\"explore.click\",\"payload\":{\"click_context\":\"REPOSITORY_CARD\",\"click_target\":\"REPOSITORY\",\"click_visual_representation\":\"REPOSITORY_NAME_HEADING\",\"actor_id\":null,\"record_id\":34302698,\"originating_url\":\"https://github.com/topics/aws\",\"user_id\":null}}' data-hydro-click-hmac=\"8026a90c8409d7d4c55e3963d610c3eee104c23e00104f9edb80e1f0e9b09413\" data-view-component=\"true\" href=\"/serverless/serverless\">\n",
       "             serverless\n",
       " </a>]"
      ]
     },
     "execution_count": 347,
     "metadata": {},
     "output_type": "execute_result"
    }
   ],
   "source": [
    "a_tags=repo_tags[0].find_all('a')\n",
    "a_tags"
   ]
  },
  {
   "cell_type": "code",
   "execution_count": 305,
   "id": "4062dcc5",
   "metadata": {},
   "outputs": [
    {
     "data": {
      "text/plain": [
       "'justjavac'"
      ]
     },
     "execution_count": 305,
     "metadata": {},
     "output_type": "execute_result"
    }
   ],
   "source": [
    "a_tags[0].text.strip()"
   ]
  },
  {
   "cell_type": "code",
   "execution_count": 306,
   "id": "5c5972b0",
   "metadata": {},
   "outputs": [
    {
     "data": {
      "text/plain": [
       "'free-programming-books-zh_CN'"
      ]
     },
     "execution_count": 306,
     "metadata": {},
     "output_type": "execute_result"
    }
   ],
   "source": [
    "a_tags[1].text.strip()"
   ]
  },
  {
   "cell_type": "code",
   "execution_count": 307,
   "id": "856453b6",
   "metadata": {},
   "outputs": [],
   "source": [
    "repo_url=base_url+a_tags[1]['href']"
   ]
  },
  {
   "cell_type": "code",
   "execution_count": 308,
   "id": "1927320f",
   "metadata": {},
   "outputs": [
    {
     "data": {
      "text/plain": [
       "'https://github.com/justjavac/free-programming-books-zh_CN'"
      ]
     },
     "execution_count": 308,
     "metadata": {},
     "output_type": "execute_result"
    }
   ],
   "source": [
    "repo_url"
   ]
  },
  {
   "cell_type": "code",
   "execution_count": 309,
   "id": "0aaf4bd4",
   "metadata": {},
   "outputs": [],
   "source": [
    "star_tags=topic_doc.find_all('span',class_=\"Counter js-social-count\")"
   ]
  },
  {
   "cell_type": "code",
   "execution_count": 310,
   "id": "38864f3c",
   "metadata": {},
   "outputs": [
    {
     "data": {
      "text/plain": [
       "30"
      ]
     },
     "execution_count": 310,
     "metadata": {},
     "output_type": "execute_result"
    }
   ],
   "source": [
    "len(star_tags)"
   ]
  },
  {
   "cell_type": "code",
   "execution_count": 311,
   "id": "642a5ea6",
   "metadata": {},
   "outputs": [
    {
     "data": {
      "text/plain": [
       "'86.1k'"
      ]
     },
     "execution_count": 311,
     "metadata": {},
     "output_type": "execute_result"
    }
   ],
   "source": [
    "star_tags[0].text"
   ]
  },
  {
   "cell_type": "code",
   "execution_count": 466,
   "id": "8cf52420",
   "metadata": {},
   "outputs": [],
   "source": [
    "def get_repo_info(h3_tag,star_tag):\n",
    "    a_tags=h3_tag.find_all('a')\n",
    "    username=a_tags[0].text.strip()\n",
    "    repo_name=a_tags[1].text.strip()\n",
    "    repo_url=base_url+a_tags[1]['href']\n",
    "    stars=star_tag.text\n",
    "    return username,repo_name,repo_url,stars    "
   ]
  },
  {
   "cell_type": "code",
   "execution_count": 467,
   "id": "2a9fdf2b",
   "metadata": {},
   "outputs": [],
   "source": [
    "def get_topic_repos(topic_url):\n",
    "    # Download the page\n",
    "    response=requests.get(topic_url)\n",
    "    # check response\n",
    "    if response.status_code !=200:\n",
    "        raise Expection(\"Failed to load the page\")\n",
    "    # parse using the beautiful soup\n",
    "    topic_doc=BeautifulSoup(response.text,'html.parser')\n",
    "    # get h3 tags containing repo title,repo URL,and owner name\n",
    "    repo_tags=topic_doc.find_all('h3',class_=\"f3 color-fg-muted text-normal lh-condensed\")\n",
    "    # get stars\n",
    "    star_tags=topic_doc.find_all('span',class_=\"Counter js-social-count\")\n",
    "    topic_repos_dict={\n",
    "    'username':[],\n",
    "    'repo_name':[],\n",
    "    'repo_url':[],\n",
    "    'stars':[]\n",
    "    }\n",
    "    for i in range(len(repo_tags)):\n",
    "        repo_info=get_repo_info(repo_tags[i],star_tags[i])\n",
    "        #repo_info\n",
    "        topic_repos_dict['username'].append(repo_info[0])\n",
    "        #print(topic_repos_dict['username'])\n",
    "        topic_repos_dict['repo_name'].append(repo_info[1])\n",
    "        topic_repos_dict['repo_url'].append(repo_info[2])\n",
    "        topic_repos_dict['stars'].append(repo_info[3])\n",
    "    return pd.DataFrame(topic_repos_dict)\n",
    "def scrape_topic(topic_url,path):\n",
    "    if os.path.exists(path):\n",
    "        print('The file already exists')\n",
    "        \n",
    "    topic_df=get_topic_repos(topic_url)\n",
    "    topic_df.to_csv(path,index=None)\n",
    "    \n",
    "       "
   ]
  },
  {
   "cell_type": "markdown",
   "id": "c277f216",
   "metadata": {},
   "source": [
    "We Write a single function to:\n",
    "1. Get the list of topics from the topic page\n",
    "2. Get the list of top repos from the induviual topic pages.\n",
    "3. For each topic create a CSV of the top repos."
   ]
  },
  {
   "cell_type": "code",
   "execution_count": 486,
   "id": "a0796deb",
   "metadata": {},
   "outputs": [],
   "source": [
    "def get_topic_titles(doc):\n",
    "    topic_title_tags=doc.find_all('p',class_='f3 lh-condensed mb-0 mt-1 Link--primary')\n",
    "    topic_titles=[]\n",
    "    for tags in topic_title_tags:\n",
    "        topic_titles.append(tags.text)\n",
    "    return topic_titles\n",
    "\n",
    "def get_topic_descs(doc):\n",
    "    topic_desc_tags=doc.find_all('p',class_=\"f5 color-fg-muted mb-0 mt-1\")\n",
    "    topic_description=[]\n",
    "    for tags in topic_desc_tags:\n",
    "        topic_description.append(tags.text.strip())#strip removes spaces from string\n",
    "    return topic_description\n",
    "\n",
    "\n",
    "def get_topic_urls(doc):\n",
    "    topic_link_tags=doc.find_all('a',class_=\"no-underline flex-grow-0\")\n",
    "    topic_urls=[]\n",
    "    base_url='https://github.com'\n",
    "    for tags in topic_link_tags:\n",
    "        topic_urls.append(base_url+tags['href'])\n",
    "    return topic_urls\n",
    "    \n",
    "def scrape_topics():\n",
    "    topics_url='https://github.com/topics'\n",
    "    response=requests.get(topics_url)\n",
    "    if response.status_code!=200:\n",
    "        raise Expection(\"Failed to load the page\")\n",
    "    page_contents=response.text\n",
    "    from bs4 import BeautifulSoup #importing the beautiful soup library\n",
    "    doc=BeautifulSoup(page_contents,'html.parser') #you need to pass the html content and the html.parser.\n",
    "    topics_dict={\n",
    "        \n",
    "        \n",
    "        'urls':get_topic_urls(doc),\n",
    "        'title':get_topic_titles(doc),\n",
    "        'descs':get_topic_descs(doc)\n",
    "    }\n",
    "    return pd.DataFrame(topics_dict)\n",
    "     "
   ]
  },
  {
   "cell_type": "code",
   "execution_count": 488,
   "id": "4faa871f",
   "metadata": {},
   "outputs": [],
   "source": [
    "def scrape_topics_repos():\n",
    "    w_topics_df=scrape_topics() \n",
    "    for index,row in w_topics_df.iterrows():\n",
    "        #print('Scraping top reposorities for \"{}\"'.format(row['title']))\n",
    "        os.makedirs('data',exist_ok=True)\n",
    "        scrape_topic(row['url'],'data/{}.csv'.format(row['title']))  "
   ]
  },
  {
   "cell_type": "code",
   "execution_count": 485,
   "id": "5419858c",
   "metadata": {},
   "outputs": [
    {
     "name": "stdout",
     "output_type": "stream",
     "text": [
      "The file already exists\n",
      "The file already exists\n",
      "The file already exists\n",
      "The file already exists\n",
      "The file already exists\n",
      "The file already exists\n",
      "The file already exists\n",
      "The file already exists\n",
      "The file already exists\n",
      "The file already exists\n",
      "The file already exists\n",
      "The file already exists\n",
      "The file already exists\n",
      "The file already exists\n",
      "The file already exists\n",
      "The file already exists\n",
      "The file already exists\n",
      "The file already exists\n",
      "The file already exists\n",
      "The file already exists\n",
      "The file already exists\n",
      "The file already exists\n",
      "The file already exists\n",
      "The file already exists\n",
      "The file already exists\n",
      "The file already exists\n",
      "The file already exists\n",
      "The file already exists\n",
      "The file already exists\n",
      "The file already exists\n"
     ]
    }
   ],
   "source": [
    "scrape_topics_repos()\n"
   ]
  },
  {
   "cell_type": "code",
   "execution_count": null,
   "id": "85dd08e2",
   "metadata": {},
   "outputs": [],
   "source": []
  }
 ],
 "metadata": {
  "kernelspec": {
   "display_name": "Python 3",
   "language": "python",
   "name": "python3"
  },
  "language_info": {
   "codemirror_mode": {
    "name": "ipython",
    "version": 3
   },
   "file_extension": ".py",
   "mimetype": "text/x-python",
   "name": "python",
   "nbconvert_exporter": "python",
   "pygments_lexer": "ipython3",
   "version": "3.8.8"
  }
 },
 "nbformat": 4,
 "nbformat_minor": 5
}
